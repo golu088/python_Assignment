{
 "cells": [
  {
   "cell_type": "code",
   "execution_count": 13,
   "id": "7a18f1db-b8c8-48f1-b147-5b02cdc169d8",
   "metadata": {},
   "outputs": [
    {
     "name": "stdout",
     "output_type": "stream",
     "text": [
      "1\n",
      "2\n",
      "1\n",
      "3\n"
     ]
    }
   ],
   "source": [
    "# for persistent states\n",
    "def counter():\n",
    "    # value of count is present here \n",
    "    count=0\n",
    "    def increment():\n",
    "        nonlocal count\n",
    "        count+=1\n",
    "        print(count)\n",
    "        \n",
    "\n",
    "    return increment \n",
    "\n",
    "c1 = counter()\n",
    "c1()\n",
    "c1()\n",
    "c2=counter()\n",
    "c2()\n",
    "c1()"
   ]
  },
  {
   "cell_type": "code",
   "execution_count": null,
   "id": "206a98a7-c4e6-43ee-976f-e2247d5b6332",
   "metadata": {},
   "outputs": [],
   "source": []
  }
 ],
 "metadata": {
  "kernelspec": {
   "display_name": "Python 3 (ipykernel)",
   "language": "python",
   "name": "python3"
  },
  "language_info": {
   "codemirror_mode": {
    "name": "ipython",
    "version": 3
   },
   "file_extension": ".py",
   "mimetype": "text/x-python",
   "name": "python",
   "nbconvert_exporter": "python",
   "pygments_lexer": "ipython3",
   "version": "3.12.5"
  }
 },
 "nbformat": 4,
 "nbformat_minor": 5
}
