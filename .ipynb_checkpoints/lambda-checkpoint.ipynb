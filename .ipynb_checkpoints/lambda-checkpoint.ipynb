{
 "cells": [
  {
   "cell_type": "markdown",
   "id": "7cd74368-1c17-4ba8-b774-6a12f31fc719",
   "metadata": {},
   "source": [
    "### lambda function ###"
   ]
  },
  {
   "cell_type": "markdown",
   "id": "00a19a60-0385-4547-b211-841ba726e7d7",
   "metadata": {},
   "source": [
    "**lambda function to add two numbers**"
   ]
  },
  {
   "cell_type": "code",
   "execution_count": 1,
   "id": "dd7a9e9d-a4b3-428a-90a8-26bd5cbfe0f9",
   "metadata": {},
   "outputs": [
    {
     "name": "stdout",
     "output_type": "stream",
     "text": [
      "14\n"
     ]
    }
   ],
   "source": [
    "add =lambda a , b: a + b\n",
    "print(add(5,9))"
   ]
  },
  {
   "cell_type": "code",
   "execution_count": 1,
   "id": "a4e09061-67e1-48d9-a091-5f127a12f012",
   "metadata": {},
   "outputs": [
    {
     "name": "stdout",
     "output_type": "stream",
     "text": [
      "[16, 25, 36, 225]\n"
     ]
    }
   ],
   "source": [
    "numbers = [4 , 5 ,6 , 15]\n",
    "squared = map(lambda x: x * x ,numbers)\n",
    "print(list(squared))"
   ]
  },
  {
   "cell_type": "markdown",
   "id": "ba87d517-3ece-468b-b613-bc9329bfdec3",
   "metadata": {},
   "source": [
    "**filter function : checks condition true then return it and if condition is false then ignores it move ahead**"
   ]
  },
  {
   "cell_type": "code",
   "execution_count": 2,
   "id": "7b153a2f-a8fc-484c-b03b-8dcc67cb0a9e",
   "metadata": {},
   "outputs": [
    {
     "name": "stdout",
     "output_type": "stream",
     "text": [
      "[4, 6]\n"
     ]
    }
   ],
   "source": [
    "even_numbers = filter(lambda x: x % 2 == 0 , numbers)\n",
    "print(list(even_numbers))"
   ]
  },
  {
   "cell_type": "markdown",
   "id": "3562647d-3459-4721-af4b-9301d65f45e2",
   "metadata": {},
   "source": [
    "### write a function to multiply three numbers and return its result using both normal function and lambda function ###"
   ]
  },
  {
   "cell_type": "code",
   "execution_count": 3,
   "id": "7c61d752-c21d-4ae3-9857-6b1ee17fe582",
   "metadata": {},
   "outputs": [
    {
     "data": {
      "text/plain": [
       "60"
      ]
     },
     "execution_count": 3,
     "metadata": {},
     "output_type": "execute_result"
    }
   ],
   "source": [
    "def multiply(a , b ,c):\n",
    "    return (a*b*c)\n",
    "\n",
    "multiply( 5, 6 ,2)\n"
   ]
  },
  {
   "cell_type": "code",
   "execution_count": 4,
   "id": "6af81418-4501-49b5-8d29-942730e15d02",
   "metadata": {},
   "outputs": [
    {
     "name": "stdout",
     "output_type": "stream",
     "text": [
      "60\n"
     ]
    }
   ],
   "source": [
    "multiply = lambda a, b ,c: a*b*c\n",
    "print(multiply(4,5,3))"
   ]
  },
  {
   "cell_type": "markdown",
   "id": "a0390945-8647-48b4-b1d6-ea965e20c7df",
   "metadata": {},
   "source": [
    "__creating a list of squares of even numbers from 0 to 9__"
   ]
  },
  {
   "cell_type": "code",
   "execution_count": 2,
   "id": "8607bb08-23b9-4a21-bfea-c89f589acead",
   "metadata": {},
   "outputs": [],
   "source": [
    "squares = []\n",
    "for i in range(10):\n",
    "    if i % 2 == 0:\n",
    "        squares.append(i ** 2)"
   ]
  },
  {
   "cell_type": "code",
   "execution_count": 6,
   "id": "1673f8e2-b125-491b-b593-47757567a8ce",
   "metadata": {},
   "outputs": [],
   "source": [
    "squares = [ i**2 for i in range(10) if i % 2 == 0]"
   ]
  },
  {
   "cell_type": "code",
   "execution_count": null,
   "id": "efd361db-5e86-4edd-87a6-63add3f85a4b",
   "metadata": {},
   "outputs": [],
   "source": []
  }
 ],
 "metadata": {
  "kernelspec": {
   "display_name": "Python 3 (ipykernel)",
   "language": "python",
   "name": "python3"
  },
  "language_info": {
   "codemirror_mode": {
    "name": "ipython",
    "version": 3
   },
   "file_extension": ".py",
   "mimetype": "text/x-python",
   "name": "python",
   "nbconvert_exporter": "python",
   "pygments_lexer": "ipython3",
   "version": "3.12.5"
  }
 },
 "nbformat": 4,
 "nbformat_minor": 5
}
