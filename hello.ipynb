{
 "cells": [
  {
   "cell_type": "markdown",
   "id": "ff515bca-58de-4093-ac73-64735fc5cc28",
   "metadata": {},
   "source": [
    "Open IDLE and write a Python script that prints \"Hello, Python World!\""
   ]
  },
  {
   "cell_type": "code",
   "execution_count": 1,
   "id": "f4b9b722-e221-4f62-b7fa-bd28b5f6d691",
   "metadata": {},
   "outputs": [
    {
     "name": "stdout",
     "output_type": "stream",
     "text": [
      "Hello, Python World!\n"
     ]
    }
   ],
   "source": [
    "print(\"Hello, Python World!\")"
   ]
  },
  {
   "cell_type": "code",
   "execution_count": null,
   "id": "2f7790ad-7367-4caf-9baa-860671af3e5b",
   "metadata": {},
   "outputs": [],
   "source": []
  }
 ],
 "metadata": {
  "kernelspec": {
   "display_name": "Python 3 (ipykernel)",
   "language": "python",
   "name": "python3"
  },
  "language_info": {
   "codemirror_mode": {
    "name": "ipython",
    "version": 3
   },
   "file_extension": ".py",
   "mimetype": "text/x-python",
   "name": "python",
   "nbconvert_exporter": "python",
   "pygments_lexer": "ipython3",
   "version": "3.12.5"
  }
 },
 "nbformat": 4,
 "nbformat_minor": 5
}
