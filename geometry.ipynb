{
 "cells": [
  {
   "cell_type": "markdown",
   "id": "1cd838ef-f69f-4fd4-a598-31da5ccfdabc",
   "metadata": {},
   "source": [
    "write a program given data 1,2 of points x, y coordinates  are given as follows points are 1,2 and 1,3& 2,4 & 5,7 (in a 2D plane) this are representing and origin at 0,0 \n",
    "write functions to estimate the distance between two points,\n",
    "write a function to get the position of a point in polar coordinates \n",
    "A function to move point when displacement is given"
   ]
  },
  {
   "cell_type": "code",
   "execution_count": 1,
   "id": "6e0b8591-133b-4b91-a4eb-7f69616c13f9",
   "metadata": {},
   "outputs": [
    {
     "name": "stdout",
     "output_type": "stream",
     "text": [
      "Distance between (1, 2) and (1, 3): 1.0\n",
      "Polar coordinates of (2, 4): (4.47213595499958, 63.43494882292201)\n",
      "New position of (5, 7) after displacement (2, -1): (7, 6)\n"
     ]
    }
   ],
   "source": [
    "import math\n",
    "\n",
    "# Function to calculate distance between two points\n",
    "def distance(point1, point2):\n",
    "    x1, y1 = point1\n",
    "    x2, y2 = point2\n",
    "    return math.sqrt((x2 - x1) ** 2 + (y2 - y1) ** 2)\n",
    "\n",
    "# Function to convert Cartesian coordinates to polar coordinates\n",
    "def to_polar(point):\n",
    "    x, y = point\n",
    "    r = math.sqrt(x ** 2 + y ** 2)  # Radius (distance from origin)\n",
    "    theta = math.atan2(y, x)  # Angle in radians\n",
    "    return (r, math.degrees(theta))  # Return in degrees\n",
    "\n",
    "# Function to move a point by a given displacement\n",
    "def move_point(point, displacement):\n",
    "    x, y = point\n",
    "    dx, dy = displacement\n",
    "    return (x + dx, y + dy)\n",
    "\n",
    "# Example usage:\n",
    "point1 = (1, 2)\n",
    "point2 = (1, 3)\n",
    "point3 = (2, 4)\n",
    "point4 = (5, 7)\n",
    "\n",
    "# Calculating distance between point1 and point2\n",
    "dist = distance(point1, point2)\n",
    "print(f\"Distance between {point1} and {point2}: {dist}\")\n",
    "\n",
    "# Converting point3 to polar coordinates\n",
    "polar_point = to_polar(point3)\n",
    "print(f\"Polar coordinates of {point3}: {polar_point}\")\n",
    "\n",
    "# Moving point4 by a displacement (2, -1)\n",
    "new_point = move_point(point4, (2, -1))\n",
    "print(f\"New position of {point4} after displacement (2, -1): {new_point}\")\n",
    "\n",
    "\n"
   ]
  },
  {
   "cell_type": "markdown",
   "id": "26fe432b",
   "metadata": {},
   "source": []
  }
 ],
 "metadata": {
  "kernelspec": {
   "display_name": "Python 3 (ipykernel)",
   "language": "python",
   "name": "python3"
  },
  "language_info": {
   "codemirror_mode": {
    "name": "ipython",
    "version": 3
   },
   "file_extension": ".py",
   "mimetype": "text/x-python",
   "name": "python",
   "nbconvert_exporter": "python",
   "pygments_lexer": "ipython3",
   "version": "3.12.5"
  }
 },
 "nbformat": 4,
 "nbformat_minor": 5
}
