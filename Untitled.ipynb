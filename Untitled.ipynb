{
 "cells": [
  {
   "cell_type": "markdown",
   "id": "9c85ddc4-59d8-454e-9958-9f92e888bdb9",
   "metadata": {},
   "source": [
    "wap to save a python list into a file and read the same file and recover original list "
   ]
  },
  {
   "cell_type": "code",
   "execution_count": 2,
   "id": "b721a70e-c8bf-4bc1-86d9-8ce4d6e4c879",
   "metadata": {},
   "outputs": [
    {
     "name": "stdout",
     "output_type": "stream",
     "text": [
      "read data is ['1', ' 2', ' 3', ' 4']\n",
      " its type is <class 'list'>\n"
     ]
    }
   ],
   "source": [
    "list =[1,2,3,4]\n",
    "\n",
    "filepath = \"data.txt\"\n",
    "with open(filepath,\"w\") as fileHandle:\n",
    "    fileHandle.write(str(list))\n",
    "with open(filepath,\"r\") as fileHandle:\n",
    "    readData = fileHandle.read()\n",
    "    readData = readData[1:len(readData)-1].replace(\"\",\"\").split(\",\")\n",
    "    print(f\"read data is {readData}\\n its type is {type(readData)}\") "
   ]
  },
  {
   "cell_type": "code",
   "execution_count": null,
   "id": "a502fc75-c969-4468-984d-3de7fa9946a7",
   "metadata": {},
   "outputs": [],
   "source": []
  }
 ],
 "metadata": {
  "kernelspec": {
   "display_name": "Python 3 (ipykernel)",
   "language": "python",
   "name": "python3"
  },
  "language_info": {
   "codemirror_mode": {
    "name": "ipython",
    "version": 3
   },
   "file_extension": ".py",
   "mimetype": "text/x-python",
   "name": "python",
   "nbconvert_exporter": "python",
   "pygments_lexer": "ipython3",
   "version": "3.12.5"
  }
 },
 "nbformat": 4,
 "nbformat_minor": 5
}
