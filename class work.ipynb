{
 "cells": [
  {
   "cell_type": "markdown",
   "id": "2bb23861-6a9e-4963-b5b5-161f7d9c3e0f",
   "metadata": {},
   "source": [
    "# class work\n",
    "  date: 05/09/2024\n"
   ]
  },
  {
   "cell_type": "code",
   "execution_count": null,
   "id": "18358d91-7963-44c7-847e-84389496aced",
   "metadata": {},
   "outputs": [],
   "source": [
    "Q.1-> Write a function that takes  input argument the input argument should be a list of numbers this function computes the sum average, minimum, maximum and cumulative sum and return these values now use this function. take input from the user,compute the sum average\n",
    "minimum, maximum , cumulative \n"
   ]
  },
  {
   "cell_type": "code",
   "execution_count": 16,
   "id": "6a624c06-47f7-4895-b749-d41ff2ea2d7e",
   "metadata": {},
   "outputs": [
    {
     "name": "stdin",
     "output_type": "stream",
     "text": [
      "Enter a list of numbers separated by space:  2 3 4 5 6 \n"
     ]
    },
    {
     "name": "stdout",
     "output_type": "stream",
     "text": [
      "Sum-> 20.00\n",
      "Average-> 4.00\n",
      "Minimum-> 2.0\n",
      "Maximum-> 6.0\n",
      "Cumulative Sum-> [2.0, 5.0, 9.0, 14.0, 20.0]\n"
     ]
    }
   ],
   "source": [
    "def compute_statistics(numbers):\n",
    "    \n",
    "    if not numbers:\n",
    "        return 0, 0, None, None, []\n",
    "        \n",
    "    total_sum = sum(numbers)\n",
    "    \n",
    "    average = total_sum / len(numbers)\n",
    "\n",
    "    minimum = min(numbers)\n",
    "\n",
    "    maximum = max(numbers)\n",
    "\n",
    "    cumulative_sum = [sum(numbers[:i+1]) for i in range(len(numbers))]\n",
    "\n",
    "    \n",
    "    return total_sum, average, minimum, maximum, cumulative_sum\n",
    "\n",
    "\n",
    "input_list = input(\"Enter a list of numbers separated by space: \")\n",
    "\n",
    "\n",
    "numbers = [float(num) for num in input_list.split()]\n",
    "\n",
    "\n",
    "if not numbers:\n",
    "    print(\"No numbers entered. Please provide a list of numbers.\")\n",
    "else:\n",
    "\n",
    "    total_sum, average, minimum, maximum, cumulative_sum = compute_statistics(numbers)\n",
    "\n",
    "\n",
    "    print(f\"Sum-> {total_sum:.2f}\")\n",
    "    print(f\"Average-> {average:.2f}\")\n",
    "    print(f\"Minimum-> {minimum}\")\n",
    "    print(f\"Maximum-> {maximum}\")\n",
    "    print(f\"Cumulative Sum-> {cumulative_sum}\")\n"
   ]
  },
  {
   "cell_type": "markdown",
   "id": "e55979fb-f1b5-4f9e-9f79-b49a568f9ecb",
   "metadata": {},
   "source": [
    "\n"
   ]
  },
  {
   "cell_type": "markdown",
   "id": "b82f8a70-55ef-4574-88e8-adccea61763e",
   "metadata": {},
   "source": [
    "Q.2-> \n",
    "write a Python program with two functions: one to get a list of integer inputs from the user and another to display the data entered by the user. The first function ensures that all inputs are integers, you can ask from user how many value enter "
   ]
  },
  {
   "cell_type": "code",
   "execution_count": 17,
   "id": "2445b2d1-3f7c-4471-88e0-e80cec6ba2f4",
   "metadata": {},
   "outputs": [
    {
     "name": "stdin",
     "output_type": "stream",
     "text": [
      "How many values would you like to enter?  4\n",
      "Enter integer value 1:  8\n",
      "Enter integer value 2:  9\n",
      "Enter integer value 3:  0\n",
      "Enter integer value 4:  7\n"
     ]
    },
    {
     "name": "stdout",
     "output_type": "stream",
     "text": [
      "The list of integers entered by the user:\n",
      "[8, 9, 0, 7]\n"
     ]
    }
   ],
   "source": [
    "def get_integer_list():\n",
    "    # Ask the user how many values they want to enter\n",
    "    while True:\n",
    "        try:\n",
    "            n = int(input(\"How many values would you like to enter? \"))\n",
    "            if n <= 0:\n",
    "                print(\"Please enter a positive integer.\")\n",
    "                continue\n",
    "            break\n",
    "        except ValueError:\n",
    "            print(\"Invalid input. Please enter a valid integer.\")\n",
    "\n",
    "    # Initialize an empty list to store the integer values\n",
    "    values = []\n",
    "\n",
    "    # Loop to get the 'n' integer values from the user\n",
    "    for i in range(n):\n",
    "        while True:\n",
    "            try:\n",
    "                value = int(input(f\"Enter integer value {i+1}: \"))\n",
    "                values.append(value)\n",
    "                break\n",
    "            except ValueError:\n",
    "                print(\"Invalid input. Please enter a valid integer.\")\n",
    "\n",
    "    return values\n",
    "\n",
    "def display_list(data):\n",
    "    # Display the list of integers entered by the user\n",
    "    print(\"The list of integers entered by the user:\")\n",
    "    print(data)\n",
    "\n",
    "\n",
    "# Get the list of integers from the user\n",
    "user_data = get_integer_list()\n",
    "\n",
    "# Display the list of integers\n",
    "display_list(user_data)\n"
   ]
  },
  {
   "cell_type": "code",
   "execution_count": null,
   "id": "29119eb9-9449-44bc-bdc2-1c5507c074e6",
   "metadata": {},
   "outputs": [],
   "source": []
  }
 ],
 "metadata": {
  "kernelspec": {
   "display_name": "Python 3 (ipykernel)",
   "language": "python",
   "name": "python3"
  },
  "language_info": {
   "codemirror_mode": {
    "name": "ipython",
    "version": 3
   },
   "file_extension": ".py",
   "mimetype": "text/x-python",
   "name": "python",
   "nbconvert_exporter": "python",
   "pygments_lexer": "ipython3",
   "version": "3.12.5"
  }
 },
 "nbformat": 4,
 "nbformat_minor": 5
}
