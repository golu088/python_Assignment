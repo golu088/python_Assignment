{
 "cells": [
  {
   "cell_type": "code",
   "execution_count": 4,
   "id": "3a0be089-4652-4b9d-ad45-a772a1591e04",
   "metadata": {},
   "outputs": [
    {
     "name": "stdout",
     "output_type": "stream",
     "text": [
      "0    10\n",
      "1    20\n",
      "2    30\n",
      "3    40\n",
      "dtype: int64\n"
     ]
    }
   ],
   "source": [
    "import pandas as pd\n",
    "\n",
    "\n",
    "s = pd.Series([10, 20, 30, 40])\n",
    "print(s)"
   ]
  },
  {
   "cell_type": "code",
   "execution_count": 7,
   "id": "a7545afa-3d3d-4bd1-9abc-e9b3f2284bf1",
   "metadata": {},
   "outputs": [
    {
     "name": "stdout",
     "output_type": "stream",
     "text": [
      "      Name  Age         City\n",
      "0    Alice   24     New York\n",
      "1      Bob   27  Los Angeles\n",
      "2  Charlie   22      Chicago\n"
     ]
    }
   ],
   "source": [
    "data = {\n",
    "    'Name': ['Alice', 'Bob', 'Charlie'],\n",
    "    'Age': [24, 27, 22],\n",
    "'City': ['New York', 'Los Angeles', 'Chicago']\n",
    "}\n",
    "\n",
    "df = pd.DataFrame(data)\n",
    "print(df)"
   ]
  },
  {
   "cell_type": "code",
   "execution_count": 6,
   "id": "3bcee3be-3838-442d-a0e7-c12c34e9f03a",
   "metadata": {},
   "outputs": [
    {
     "name": "stdout",
     "output_type": "stream",
     "text": [
      "Department\n",
      "Finance    58000.0\n",
      "HR         51000.0\n",
      "IT         61000.0\n",
      "Name: Salary, dtype: float64\n"
     ]
    }
   ],
   "source": [
    "data = {\n",
    "    'Department': ['HR', 'HR', 'IT', 'IT', 'Finance'],\n",
    "    'Employee': ['Alice', 'Bob', 'Charlie', 'David', 'Eve'],\n",
    "    'Salary': [50000, 52000, 60000, 62000, 58000]\n",
    "}\n",
    "df = pd.DataFrame(data)\n",
    "\n",
    "\n",
    "grouped = df.groupby('Department')['Salary'].mean()\n",
    "print(grouped)"
   ]
  },
  {
   "cell_type": "code",
   "execution_count": null,
   "id": "2b114682-8aea-4da2-8e85-602e711c80e9",
   "metadata": {},
   "outputs": [],
   "source": []
  },
  {
   "cell_type": "markdown",
   "id": "52b566bb-d359-499d-8966-14ed925c113a",
   "metadata": {},
   "source": [
    "create a data frame and filter employes with salary>6000"
   ]
  },
  {
   "cell_type": "code",
   "execution_count": null,
   "id": "2b8496b2-442f-46cc-a33f-a3c5ef033696",
   "metadata": {},
   "outputs": [],
   "source": [
    "import pandas as pd\n",
    "\n",
    "data = {\n",
    "    'Name': ['Alice', 'Bob', 'Charlie', 'David'],\n",
    "    'Department': ['IT', 'HR', 'IT', 'Finance'],\n",
    "    'Salary': [50000, 52000, 62000, 58000]\n",
    "}\n",
    "df = pd.DataFrame(data)\n",
    "\n",
    "\n",
    "# high_salary = df[df['Salary'] > 60000]\n",
    "# print(high_salary)\n"
   ]
  },
  {
   "cell_type": "code",
   "execution_count": 13,
   "id": "81196ce1-12ef-4aea-bebe-d2ca144a04d3",
   "metadata": {},
   "outputs": [
    {
     "name": "stdout",
     "output_type": "stream",
     "text": [
      "<pandas.core.groupby.generic.SeriesGroupBy object at 0x0000023922AEBAA0>\n"
     ]
    }
   ],
   "source": [
    "data = {\n",
    "    'Department': ['HR', 'HR', 'IT', 'IT', 'Finance'],\n",
    "    'Employee': ['Alice', 'Bob', 'Charlie', 'David', 'Eve'],\n",
    "    'Salary': [50000, 52000, 60000, 62000, 58000]\n",
    "}\n",
    "df = pd.DataFrame(data)\n",
    "\n",
    "# Group by Department and calculate the mean salary\n",
    "grouped = df.groupby('Department')['Salary'].mean()\n",
    "print(grouped)"
   ]
  },
  {
   "cell_type": "code",
   "execution_count": null,
   "id": "8a361a4c-e98f-49fc-88ea-66c033f42238",
   "metadata": {},
   "outputs": [],
   "source": [
    "how to drop index of three order index and reodrer index of using pandas in excel "
   ]
  }
 ],
 "metadata": {
  "kernelspec": {
   "display_name": "Python 3 (ipykernel)",
   "language": "python",
   "name": "python3"
  },
  "language_info": {
   "codemirror_mode": {
    "name": "ipython",
    "version": 3
   },
   "file_extension": ".py",
   "mimetype": "text/x-python",
   "name": "python",
   "nbconvert_exporter": "python",
   "pygments_lexer": "ipython3",
   "version": "3.12.5"
  }
 },
 "nbformat": 4,
 "nbformat_minor": 5
}
